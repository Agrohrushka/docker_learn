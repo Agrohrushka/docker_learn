{
 "cells": [
  {
   "cell_type": "code",
   "execution_count": 1,
   "id": "c28be29c-f020-47bf-ab80-418a0ab514db",
   "metadata": {},
   "outputs": [],
   "source": [
    "import psycopg2"
   ]
  },
  {
   "cell_type": "code",
   "execution_count": 2,
   "id": "f6688353-b559-46e7-9bff-d9f2cd34d085",
   "metadata": {},
   "outputs": [],
   "source": [
    "import pandas as pd"
   ]
  },
  {
   "cell_type": "code",
   "execution_count": null,
   "id": "4cfbecc7-70ff-4cac-9566-16c99525c61d",
   "metadata": {},
   "outputs": [],
   "source": [
    "conn = psycopg2.connect(\"host='db' dbname=test user=postgres\")"
   ]
  },
  {
   "cell_type": "code",
   "execution_count": null,
   "id": "8fb28d6c-13f4-4a19-b5b2-360d0c86e5b7",
   "metadata": {},
   "outputs": [],
   "source": [
    "cur = conn.cursor()"
   ]
  },
  {
   "cell_type": "code",
   "execution_count": null,
   "id": "cd99ba6a-6e52-4fd5-9e97-ac51b0d437ec",
   "metadata": {},
   "outputs": [],
   "source": [
    "cur.execute(\"SELECT * FROM my_data\")"
   ]
  },
  {
   "cell_type": "code",
   "execution_count": null,
   "id": "0af6959c-8703-40e0-8e53-c04821215eb0",
   "metadata": {},
   "outputs": [],
   "source": [
    "records = cur.fetchall()"
   ]
  },
  {
   "cell_type": "code",
   "execution_count": null,
   "id": "c073ce22-4e8e-4803-9eeb-ddb722d1385a",
   "metadata": {},
   "outputs": [],
   "source": []
  },
  {
   "cell_type": "code",
   "execution_count": null,
   "id": "bb7f2523-5642-48f3-a715-f6dea5394a3d",
   "metadata": {},
   "outputs": [],
   "source": []
  },
  {
   "cell_type": "code",
   "execution_count": null,
   "id": "b0c7e0ed-3fd0-412d-9d36-064d4f8e28bd",
   "metadata": {},
   "outputs": [],
   "source": []
  },
  {
   "cell_type": "code",
   "execution_count": null,
   "id": "4f5e2c22-45f6-4185-a406-a88416338a20",
   "metadata": {},
   "outputs": [],
   "source": []
  },
  {
   "cell_type": "code",
   "execution_count": null,
   "id": "c8356e9a-dbb8-4eef-a8ab-f82001fb0b24",
   "metadata": {},
   "outputs": [],
   "source": []
  },
  {
   "cell_type": "code",
   "execution_count": null,
   "id": "d3eb32c3-aec1-42a3-9f14-e8ce9b5e9275",
   "metadata": {},
   "outputs": [],
   "source": []
  },
  {
   "cell_type": "code",
   "execution_count": null,
   "id": "71a01d68-c5d2-432e-a344-5d20f7b74c68",
   "metadata": {},
   "outputs": [],
   "source": []
  },
  {
   "cell_type": "code",
   "execution_count": null,
   "id": "e2ce861f-1ece-494f-a103-bbae3b5e4ba6",
   "metadata": {},
   "outputs": [],
   "source": []
  },
  {
   "cell_type": "code",
   "execution_count": null,
   "id": "5dd13f07-fc75-407d-aa5b-9b8b18376700",
   "metadata": {},
   "outputs": [],
   "source": []
  }
 ],
 "metadata": {
  "kernelspec": {
   "display_name": "Python 3 (ipykernel)",
   "language": "python",
   "name": "python3"
  },
  "language_info": {
   "codemirror_mode": {
    "name": "ipython",
    "version": 3
   },
   "file_extension": ".py",
   "mimetype": "text/x-python",
   "name": "python",
   "nbconvert_exporter": "python",
   "pygments_lexer": "ipython3",
   "version": "3.11.8"
  }
 },
 "nbformat": 4,
 "nbformat_minor": 5
}
